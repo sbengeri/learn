{
 "cells": [
  {
   "cell_type": "code",
   "execution_count": 76,
   "id": "3647c0eb",
   "metadata": {},
   "outputs": [
    {
     "name": "stdout",
     "output_type": "stream",
     "text": [
      "left: [1, 6, 12, 60, 240, 1200]\n",
      "right [1200, 600, 120, 30, 6, 1]\n",
      "prod_except_self [1200, 3600, 1440, 1800, 1440, 1200]\n"
     ]
    }
   ],
   "source": [
    "def productExceptSelf(nums : list[int]):\n",
    "    left_prod = [1]*len(nums)\n",
    "    right_prod = [1]*len(nums)\n",
    "    left_mult = 1\n",
    "    right_mult = 1\n",
    "    for i in range(len(nums)):\n",
    "        j = -i -1\n",
    "        left_prod[i] = left_mult\n",
    "        right_prod[j] = right_mult\n",
    "\n",
    "        left_mult *= nums[i]\n",
    "        right_mult *= nums[j]\n",
    "    print (\"left:\", left_prod)\n",
    "    print (\"right\", right_prod)\n",
    "\n",
    "    prod_except_self = [i*j for i,j in zip (left_prod, right_prod)]\n",
    "    print (\"prod_except_self\", prod_except_self)\n",
    "\n",
    "productExceptSelf([6, 2 ,5,4, 5, 6])"
   ]
  },
  {
   "cell_type": "code",
   "execution_count": 77,
   "id": "d4132b69",
   "metadata": {},
   "outputs": [],
   "source": [
    "class BinaryTreeNode:\n",
    "    def __init__(self, *, value=-1, left=None, right=None):\n",
    "        self.left = left\n",
    "        self.right = right\n",
    "        self.value = value\n",
    "    \n",
    "    def getLeft (self):\n",
    "        return self.left\n",
    "    \n",
    "    def getRight (self):\n",
    "        return self.right\n",
    "    \n",
    "    def getValue (self):\n",
    "        return self.value\n",
    "    \n",
    "    def isLeaf (self):\n",
    "        return self.left == None and self.right == None\n",
    "    \n",
    "\n",
    "\n",
    "class BinaryTree:\n",
    "    def __init__(self, *, root):\n",
    "        self.root = root\n",
    "        return\n",
    "    \n"
   ]
  },
  {
   "cell_type": "code",
   "execution_count": 78,
   "id": "39fa278e",
   "metadata": {},
   "outputs": [
    {
     "name": "stdout",
     "output_type": "stream",
     "text": [
      "Heap queue algorithm (a.k.a. priority queue).\n",
      "\n",
      "Heaps are arrays for which a[k] <= a[2*k+1] and a[k] <= a[2*k+2] for\n",
      "all k, counting elements from 0.  For the sake of comparison,\n",
      "non-existing elements are considered to be infinite.  The interesting\n",
      "property of a heap is that a[0] is always its smallest element.\n",
      "\n",
      "Usage:\n",
      "\n",
      "heap = []            # creates an empty heap\n",
      "heappush(heap, item) # pushes a new item on the heap\n",
      "item = heappop(heap) # pops the smallest item from the heap\n",
      "item = heap[0]       # smallest item on the heap without popping it\n",
      "heapify(x)           # transforms list into a heap, in-place, in linear time\n",
      "item = heappushpop(heap, item) # pushes a new item and then returns\n",
      "                               # the smallest item; the heap size is unchanged\n",
      "item = heapreplace(heap, item) # pops and returns smallest item, and adds\n",
      "                               # new item; the heap size is unchanged\n",
      "\n",
      "Our API differs from textbook heap algorithms as follows:\n",
      "\n",
      "- We use 0-based indexing.  This makes the relationship between the\n",
      "  index for a node and the indexes for its children slightly less\n",
      "  obvious, but is more suitable since Python uses 0-based indexing.\n",
      "\n",
      "- Our heappop() method returns the smallest item, not the largest.\n",
      "\n",
      "These two make it possible to view the heap as a regular Python list\n",
      "without surprises: heap[0] is the smallest item, and heap.sort()\n",
      "maintains the heap invariant!\n",
      "\n"
     ]
    }
   ],
   "source": [
    "import heapq\n",
    "print(heapq.__doc__)"
   ]
  },
  {
   "cell_type": "code",
   "execution_count": 2,
   "id": "9eca415d",
   "metadata": {},
   "outputs": [
    {
     "name": "stdout",
     "output_type": "stream",
     "text": [
      "Excluding item: 0\n",
      "Excluding item: 1\n",
      "Excluding item: 2\n",
      "Excluding item: 3\n",
      "Excluding item: 4\n",
      "Excluding item: 5\n",
      "Excluding item: 6\n",
      "Excluding item: 55\n",
      "Excluding item: 12\n",
      "Excluding item: 40\n",
      "5th largest = 56\n"
     ]
    }
   ],
   "source": [
    "import heapq\n",
    "def findklargestvalue(numlist, k):\n",
    "    heap = []\n",
    "    for num in numlist:\n",
    "        heapq.heappush(heap, num)\n",
    "\n",
    "        if (len(heap) > k):\n",
    "            popsmallest = heapq.heappop(heap)\n",
    "            print (f\"Excluding item: {popsmallest}\")\n",
    "    return heap[0]\n",
    "\n",
    "numlist = [0,2,4,5,6,1,3,343,56,231,55,667, 99,12,40]\n",
    "#print (f\"2nd largest = {findklargestvalue(numlist, 2)}\")\n",
    "print (f\"5th largest = {findklargestvalue(numlist, 5)}\")\n"
   ]
  },
  {
   "cell_type": "code",
   "execution_count": 91,
   "id": "ff1ba713",
   "metadata": {},
   "outputs": [
    {
     "name": "stdout",
     "output_type": "stream",
     "text": [
      "Loop through arrays with index and value\n",
      "0 2\n",
      "1 3\n",
      "2 4\n",
      "Loop through multiple arrays simultaneously with unpacking\n",
      "2 -2\n",
      "3 -3\n",
      "4 -4\n",
      "Reverse: [4, 3, 2]\n",
      "Sorted (asc): [2, 3, 4]\n",
      "Sorted (desc): [4, 3, 2]\n",
      "Slice [0:2] [4, 3]\n",
      "Sorted (alphabetically) ['abba', 'alice', 'bob', 'doe', 'jane']\n",
      "Sorted (length of strings) ['bob', 'doe', 'abba', 'jane', 'alice']\n",
      "2-D lists [[0, 0, 0, 0], [0, 0, 0, 0], [0, 0, 0, 0], [0, 0, 0, 0]]\n",
      "Don't use: [[0] * 4] * 4 this does not create 4 unique rows\n",
      "After appending 999: [4, 3, 2, 999]\n"
     ]
    }
   ],
   "source": [
    "# List refresher\n",
    "nums1 = [2,3,4]\n",
    "nums2 = [-2,-3,-4]\n",
    "print(\"Loop through arrays with index and value\")\n",
    "for i, n in enumerate(nums1):\n",
    "    print (i, n)\n",
    "print(\"Loop through multiple arrays simultaneously with unpacking\")\n",
    "for n1, n2 in zip (nums1, nums2):\n",
    "    print (n1, n2)\n",
    "nums1.reverse()\n",
    "print (\"Reverse:\" , nums1)\n",
    "nums1.sort()\n",
    "print (\"Sorted (asc):\" , nums1)\n",
    "nums1.sort(reverse=True)\n",
    "print (\"Sorted (desc):\", nums1)\n",
    "print (\"Slice [0:2]\", nums1[0:2])\n",
    "strs = [\"bob\", \"alice\", \"jane\", \"abba\", \"doe\"]\n",
    "strs.sort()\n",
    "print (\"Sorted (alphabetically)\", strs)\n",
    "strs.sort(key=lambda x: len(x))\n",
    "print (\"Sorted (length of strings)\", strs)\n",
    "twod = [[0] * 4 for i in range (4)]\n",
    "print (\"2-D lists\", twod)\n",
    "print (\"Don't use: [[0] * 4] * 4 this does not create 4 unique rows\")\n",
    "nums1.append(999)\n",
    "print (\"After appending 999:\", nums1)"
   ]
  },
  {
   "cell_type": "code",
   "execution_count": 82,
   "id": "35637b77",
   "metadata": {},
   "outputs": [
    {
     "name": "stdout",
     "output_type": "stream",
     "text": [
      "Double slash rounds down 5 // 2 = 2\n",
      "Careful with negative numbers double slash rounds down -3 // 2 = -2\n",
      "Modding operator is % 10 % 3 = 1\n",
      "Keep in mind when Modding -ve values -10 % 3 = 2\n",
      "Max float = inf  Min float = -inf\n",
      "Python numbers are infinite so they new overflow:  1.6069380442589903e+60\n",
      "this is still less than inf: math.pow(2, 200) < float('inf') =  True\n",
      "Strings are immutable so following is not allowed: s[0] = 's'\n",
      "ASCII value of a: 97\n",
      "bobabcdoeabcabbaabcjaneabcalice\n"
     ]
    }
   ],
   "source": [
    "# general\n",
    "n,m,z = 0.125 , \"abc\", False\n",
    "print (\"Double slash rounds down 5 // 2 =\", 5 // 2)\n",
    "print (\"Careful with negative numbers double slash rounds down -3 // 2 =\", -3 // 2)\n",
    "print (\"Modding operator is % 10 % 3 =\", 10%3)\n",
    "print (\"Keep in mind when Modding -ve values -10 % 3 =\", -10%3)\n",
    "\n",
    "# Numbers, math\n",
    "print (\"Max float =\", float(\"inf\"), \" Min float =\", float(\"-inf\"))\n",
    "import math\n",
    "print (\"Python numbers are infinite so they new overflow: \", math.pow(2, 200))\n",
    "print (\"this is still less than inf: math.pow(2, 200) < float('inf') = \", math.pow(2, 200) < float(\"inf\"))\n",
    "\n",
    "# Strings refresher\n",
    "print (\"Strings are immutable so following is not allowed: s[0] = 's'\")\n",
    "print (\"ASCII value of a:\", ord(\"a\") )\n",
    "print (m.join(strs))"
   ]
  },
  {
   "cell_type": "code",
   "execution_count": 33,
   "id": "7ae93736",
   "metadata": {},
   "outputs": [
    {
     "name": "stdout",
     "output_type": "stream",
     "text": [
      "deque after two appends: deque([1, 2])\n",
      "deque after popleft: deque([2]) removed: 1\n",
      "deque after appendleft(1): deque([1, 2])\n",
      "deque after pop: deque([1]) removed: 2\n",
      "deque allows addition and removal from both ends in O(1)\n"
     ]
    }
   ],
   "source": [
    "# Queues (double ended queue)\n",
    "from collections import deque\n",
    "\n",
    "q = deque()\n",
    "q.append(1)\n",
    "q.append(2)\n",
    "print(\"deque after two appends:\", q)\n",
    "item = q.popleft()\n",
    "print(\"deque after popleft:\", q, \"removed:\", item)\n",
    "q.appendleft(1)\n",
    "print(\"deque after appendleft(1):\", q)\n",
    "item = q.pop()\n",
    "print(\"deque after pop:\", q, \"removed:\", item)\n",
    "print(\"deque allows addition and removal from both ends in O(1)\")\n"
   ]
  },
  {
   "cell_type": "code",
   "execution_count": 1,
   "id": "39168c3c",
   "metadata": {},
   "outputs": [
    {
     "name": "stdout",
     "output_type": "stream",
     "text": [
      "['ChainMap', 'Counter', 'OrderedDict', 'UserDict', 'UserList', 'UserString', '_Link', '_OrderedDictItemsView', '_OrderedDictKeysView', '_OrderedDictValuesView', '__all__', '__builtins__', '__cached__', '__doc__', '__file__', '__loader__', '__name__', '__package__', '__path__', '__spec__', '_chain', '_collections_abc', '_count_elements', '_deque_iterator', '_eq', '_iskeyword', '_itemgetter', '_proxy', '_recursive_repr', '_repeat', '_starmap', '_sys', '_tuplegetter', 'abc', 'defaultdict', 'deque', 'namedtuple']\n"
     ]
    }
   ],
   "source": [
    "import collections\n",
    "print (dir(collections))"
   ]
  },
  {
   "cell_type": "code",
   "execution_count": 87,
   "id": "81d0f2f0",
   "metadata": {},
   "outputs": [
    {
     "name": "stdout",
     "output_type": "stream",
     "text": [
      "Set after 2 adds: {1, 2}  len(myset): 2\n",
      "1 in myset: True\n",
      "2 in myset: True\n",
      "3 in myset: False\n",
      "After removal, 2 in myset: False\n",
      "list to set: {2, 3, 4}\n",
      "Set comprehension {i for i in range(4)}: {0, 1, 2, 3}\n"
     ]
    }
   ],
   "source": [
    "# Hash Set\n",
    "myset = set()\n",
    "myset.add(1)\n",
    "myset.add(2)\n",
    "print(\"Set after 2 adds:\", myset, \" len(myset):\", len(myset))\n",
    "print(\"1 in myset:\", 1 in myset)\n",
    "print(\"2 in myset:\", 2 in myset)\n",
    "print(\"3 in myset:\", 3 in myset)\n",
    "myset.remove(2)\n",
    "print(\"After removal, 2 in myset:\", 2 in myset)\n",
    "nums1set = set(nums1)\n",
    "print (\"list to set:\", nums1set)\n",
    "nums1set = {i for i in range(4)}\n",
    "print (\"Set comprehension {i for i in range(4)}:\", nums1set)\n"
   ]
  },
  {
   "cell_type": "code",
   "execution_count": 88,
   "id": "8b33b369",
   "metadata": {},
   "outputs": [
    {
     "name": "stdout",
     "output_type": "stream",
     "text": [
      "Dict with two keys: {'alice': 90, 'bob': 90} len(myMap) returns number of keys: 2\n",
      "To remove a key use myMap2.pop() method {'bob': 80}\n",
      "\"alice\" in myMap2 returns true if alice is a key in the dict: False\n",
      "dict comprehension: {0: 0, 1: 2, 2: 4}\n",
      "0 0\n",
      "1 2\n",
      "2 4\n",
      "0\n",
      "2\n",
      "4\n",
      "0 0\n",
      "1 2\n",
      "2 4\n",
      "hashmap Operation -> time complexity\n",
      "       insert() -> O(1)\n",
      "       remove() -> O(1)\n",
      "       search() -> O(1)\n",
      "       \n"
     ]
    }
   ],
   "source": [
    "# HashMap (aka dict)\n",
    "myMap = {}\n",
    "myMap[\"alice\"] = 90\n",
    "myMap[\"bob\"] = 90\n",
    "print (\"Dict with two keys:\", myMap, \"len(myMap) returns number of keys:\", len(myMap))\n",
    "myMap2 = {'alice': 80, 'bob': 80}\n",
    "myMap2.pop('alice')\n",
    "print ('To remove a key use myMap2.pop() method', myMap2)\n",
    "print ('\"alice\" in myMap2 returns true if alice is a key in the dict:', \"alice\" in myMap2)\n",
    "myMap = { i : 2*i for i in range(3)}\n",
    "print (\"dict comprehension:\", myMap)\n",
    "for key in myMap:\n",
    "    print(key, myMap[key])\n",
    "for val in myMap.values():\n",
    "    print(val)\n",
    "for key, val in myMap.items():\n",
    "    print(key, val)\n",
    "print ('''hashmap Operation -> time complexity\n",
    "       insert() -> O(1)\n",
    "       remove() -> O(1)\n",
    "       search() -> O(1)\n",
    "       ''')    "
   ]
  },
  {
   "cell_type": "code",
   "execution_count": 51,
   "id": "481bca0b",
   "metadata": {},
   "outputs": [
    {
     "name": "stdout",
     "output_type": "stream",
     "text": [
      "tuples are immutable , hence can be keys of a dict\n",
      "{(1, 2): 3} {(2, 3), (1, 2)}\n"
     ]
    }
   ],
   "source": [
    "# tuples\n",
    "print(\"tuples are immutable , hence can be keys of a dict\")\n",
    "myMap = {(1,2):3}\n",
    "myset = set([(1,2), (2,3)])\n",
    "print (myMap, myset)\n"
   ]
  },
  {
   "cell_type": "code",
   "execution_count": null,
   "id": "e10dcc81",
   "metadata": {},
   "outputs": [
    {
     "name": "stdout",
     "output_type": "stream",
     "text": [
      "minheap: [2, 4, 3]\n",
      "Smallest popped: 2 value is at minheap[0]: 3\n",
      "heapq.heapify(arr):  [1, 3, 2, 6, 4]\n",
      "to print sorted use heappop in while loop\n",
      "1\n",
      "2\n",
      "3\n",
      "4\n",
      "6\n",
      "heapq Operation -> time complexity\n",
      "       top() -> O(1)\n",
      "       insert() -> O(logn)\n",
      "       remove() -> O(logn)\n",
      "       heapify() -> O(n)\n",
      "       \n"
     ]
    }
   ],
   "source": [
    "# Heapq (is a priority queue) - uses array, by default minheaps - For maxheap multiple value with -1 while adding to heap\n",
    "minheap = []\n",
    "for num in nums1:\n",
    "    heapq.heappush(minheap, num)\n",
    "\n",
    "print (\"minheap:\", minheap)\n",
    "popsmallest = heapq.heappop(minheap)\n",
    "print (\"Smallest popped:\", popsmallest, \"value is at minheap[0]:\", minheap[0])\n",
    "\n",
    "arr = [3,1,2,6,4]\n",
    "heapq.heapify(arr)\n",
    "print(\"heapq.heapify(arr): \", arr)\n",
    "print(\"to print sorted use heappop in while loop\")\n",
    "while arr:\n",
    "    print(heapq.heappop(arr))\n",
    "print ('''heapq Operation -> time complexity\n",
    "       top() -> O(1)\n",
    "       insert() -> O(logn)\n",
    "       remove() -> O(logn)\n",
    "       heapify() -> O(n)\n",
    "       ''')    "
   ]
  },
  {
   "cell_type": "code",
   "execution_count": 65,
   "id": "19972079",
   "metadata": {},
   "outputs": [
    {
     "name": "stdout",
     "output_type": "stream",
     "text": [
      "Nested functions have access to outer variables\n",
      "outer(10,12): 25\n",
      "[2, 4] 20\n"
     ]
    }
   ],
   "source": [
    "# Functions\n",
    "print (\"Nested functions have access to outer variables\")\n",
    "def outer(a,b):\n",
    "    c=3\n",
    "    def inner():\n",
    "        return a+b+c\n",
    "    return inner()\n",
    "print (\"outer(10,12):\", outer(10,12))\n",
    "\n",
    "# can modify objects but not reassign unless using nonlocal keyword\n",
    "def double(arr, val):\n",
    "    def helper():\n",
    "        for i,n in enumerate(arr):\n",
    "            arr[i] = n*2\n",
    "        # OR do the following\n",
    "        # nonlocal arr\n",
    "        # arr = [i * 2 for i in arr]\n",
    "        nonlocal val\n",
    "        val *= 2\n",
    "    helper()\n",
    "    print(arr, val)\n",
    "nums = [1,2]\n",
    "double(nums, 10)    "
   ]
  },
  {
   "cell_type": "code",
   "execution_count": null,
   "id": "257b2e8f",
   "metadata": {},
   "outputs": [],
   "source": [
    "# Linear structures: arrays, linked list, strings\n",
    "## Two pointers (same direction, opposite direction)\n",
    "## Sliding window\n",
    "## Binary search - applicable for monotonic condition, 2D matrix search\n",
    "## Modified Binary Search \n",
    "# Non-linear\n",
    "## DFS (explore all paths) and BFS (shortest path)\n",
    "# Recursion\n",
    "# Backtracking (permutation, combination problems, suduko, N Queen)\n",
    "# Dynamic Programming\n",
    "# memoization -> just a fancy word for storing a functions return value for the given parameters (for instance fibonacci series)\n",
    "# Topological sort"
   ]
  },
  {
   "cell_type": "code",
   "execution_count": 90,
   "id": "8feb7b3e",
   "metadata": {},
   "outputs": [],
   "source": [
    "# Tree DFS\n",
    "def tdfs(root, target):\n",
    "    if (root == None):\n",
    "        return None\n",
    "    if (root.val == target):\n",
    "        return root\n",
    "    left = tdfs(root.left, target)\n",
    "    if left is not None:\n",
    "        return left\n",
    "    return tdfs(root.right, target)\n",
    "\n",
    "# graph gdfs\n",
    "def gdfs(root, visited):\n",
    "    for nbr in get_neighbors():\n",
    "        if (nbr in visited):\n",
    "            continue\n",
    "        visited.add(nbr)\n",
    "        gdfs(nbr, visited)\n"
   ]
  },
  {
   "cell_type": "code",
   "execution_count": 15,
   "id": "d4aaee84",
   "metadata": {},
   "outputs": [
    {
     "name": "stdout",
     "output_type": "stream",
     "text": [
      "          -\n",
      "         ---\n",
      "        -----\n",
      "       -------\n",
      "      ---------\n",
      "     -----------\n",
      "    -------------\n",
      "   ---------------\n",
      "  -----------------\n",
      " -------------------\n"
     ]
    }
   ],
   "source": [
    "# pyramid\n",
    "def pyramid (N, char='*'):\n",
    "    for i in range (N):\n",
    "        spaces = ' ' * (N -i) * len(char)\n",
    "        chars = char * (i*2 + 1)\n",
    "        print(f\"{spaces}{chars}\")\n",
    "\n",
    "pyramid (10, '-')\n"
   ]
  },
  {
   "cell_type": "code",
   "execution_count": 11,
   "id": "1d027fc8",
   "metadata": {},
   "outputs": [
    {
     "name": "stdout",
     "output_type": "stream",
     "text": [
      "List after removing (5):  [2, 4, 5, 1, 2, 4, 5, 5]\n"
     ]
    }
   ],
   "source": [
    "# remove specified value from list in-place, return num elements that are not the specified value\n",
    "def remove_value_from_list(nums, val):\n",
    "    not_val_idx = 0\n",
    "    for i in range (len(nums)):\n",
    "        if (nums[i] != val):\n",
    "            nums[not_val_idx] = nums[i]\n",
    "            not_val_idx += 1\n",
    "    return not_val_idx\n",
    "\n",
    "nums = [2,4,5,1,2,4,5,3,5]\n",
    "num_non_val = remove_value_from_list (nums, 3)\n",
    "print (f\"List after removing ({nums[num_non_val]}): \", nums[:num_non_val])"
   ]
  },
  {
   "cell_type": "code",
   "execution_count": 8,
   "id": "9f339509",
   "metadata": {},
   "outputs": [
    {
     "name": "stdout",
     "output_type": "stream",
     "text": [
      "Pair at indices 1, 8 in the list ([2, 4, 5, 1, 2, 4, 5, 3, 5]) add to 9\n"
     ]
    }
   ],
   "source": [
    "# two sum - find the two numbers in the list that add to the target - return the indices of the numbers in the list\n",
    "def find_nums_sum_target(nums, target):\n",
    "    positions = {nums[i] : i for i in range(len(nums))}\n",
    "\n",
    "    for i in range(len(nums)):\n",
    "        second_addend = target - nums[i]\n",
    "        if (second_addend == nums[i]):\n",
    "            # duplicates not expected\n",
    "            continue\n",
    "\n",
    "        if (second_addend in positions):\n",
    "            # found the number that adds to the target, return indices\n",
    "            return (i, positions[second_addend])\n",
    "    \n",
    "    return None\n",
    "\n",
    "nums = [2,4,5,1,2,4,5,3,5]\n",
    "target = 9\n",
    "positions_tuple = find_nums_sum_target (nums, target)\n",
    "if (positions_tuple == None):\n",
    "    print (f\"No pair of numbers in the list ({nums}) add to {target}\")\n",
    "else:\n",
    "    (idx1,idx2) =  positions_tuple\n",
    "    print (f\"Pair at indices {idx1}, {idx2} in the list ({nums}) add to {target}\")\n"
   ]
  },
  {
   "cell_type": "code",
   "execution_count": 10,
   "id": "e3b16a9f",
   "metadata": {},
   "outputs": [
    {
     "name": "stdout",
     "output_type": "stream",
     "text": [
      "Triplets: [(-5, 0, 5), (-5, 1, 4), (-5, 2, 3), (-4, 0, 4), (-4, 1, 3), (-2, 0, 2)]\n"
     ]
    }
   ],
   "source": [
    "# Given an input integer array nums, write a function to find all unique triplets [nums[i], nums[j], nums[k]] \n",
    "# such that i, j, and k are distinct indices, and the sum of nums[i], nums[j], and nums[k] equals zero. \n",
    "# Ensure that the resulting list does not contain any duplicate triplets.\n",
    "\n",
    "def threeSum(nums):\n",
    "    # begin by sorting the nums list\n",
    "    nums.sort()\n",
    "\n",
    "    threeSumList = []\n",
    "    for i in range (len(nums) - 2):\n",
    "        if (i > 0 and \n",
    "            nums[i-1] == nums[i]):\n",
    "            continue\n",
    "        left = i + 1\n",
    "        right = len(nums) - 1\n",
    "        while left < right:\n",
    "            sum = nums[i] + nums[left] + nums[right]\n",
    "            if (sum < 0):\n",
    "                left +=1\n",
    "            elif (sum > 0):\n",
    "                right -= 1\n",
    "            else:\n",
    "                threeSumList.append ((nums[i], nums[left], nums[right]))\n",
    "                while (nums[left] == nums[left+1]):\n",
    "                    left += 1\n",
    "                while (nums[right] == nums[right - 1]):\n",
    "                    right -= 1\n",
    "                left += 1\n",
    "                right -= 1\n",
    "                \n",
    "    return threeSumList\n",
    "\n",
    "nums = [2,4,5,0, 1,-2,-4,5,3,-5]\n",
    "triples_list = threeSum (nums)\n",
    "print (\"Triplets:\", triples_list)"
   ]
  },
  {
   "cell_type": "code",
   "execution_count": 16,
   "id": "e0123a1e",
   "metadata": {},
   "outputs": [],
   "source": [
    "class ListNode (object):\n",
    "    def __init__ (self, val=0, next=None):\n",
    "        self.val = val\n",
    "        self.next = next\n",
    "        \n",
    "class Solution(object):\n",
    "    def addTwoNumbers(self, l1, l2):\n",
    "        \"\"\"\n",
    "        :type l1: Optional[ListNode]\n",
    "        :type l2: Optional[ListNode]\n",
    "        :rtype: Optional[ListNode]\n",
    "        \"\"\"\n",
    "        startll = ListNode(0)\n",
    "        sumll = startll\n",
    "        curl1 = l1\n",
    "        curl2 = l2\n",
    "        carry = 0\n",
    "        while (curl1 != None and curl2 != None):\n",
    "            curdigitssum = carry + curl1.val + curl2.val\n",
    "            carry = 1 if curdigitssum >= 10 else 0\n",
    "            sumll.next = ListNode (curdigitssum % 10)\n",
    "            curl1 = curl1.next\n",
    "            curl2 = curl2.next\n",
    "            sumll = sumll.next\n",
    "        \n",
    "        remainingdigits = curl1 if curl1 != None else curl2\n",
    "        while (remainingdigits != None):\n",
    "            curdigitssum = carry + remainingdigits.val\n",
    "            carry = 1 if curdigitssum >= 10 else 0\n",
    "            sumll.next = ListNode (curdigitssum % 10)\n",
    "            remainingdigits = remainingdigits.next\n",
    "            sumll = sumll.next\n",
    "        \n",
    "        if (carry == 1):\n",
    "            sumll.next = ListNode (1)\n",
    "\n",
    "        return startll.next"
   ]
  },
  {
   "cell_type": "code",
   "execution_count": 18,
   "id": "6dfaec4a",
   "metadata": {},
   "outputs": [
    {
     "name": "stdout",
     "output_type": "stream",
     "text": [
      "6\n"
     ]
    }
   ],
   "source": [
    "print (max(5,6))"
   ]
  },
  {
   "cell_type": "code",
   "execution_count": 36,
   "id": "204b0ac8",
   "metadata": {},
   "outputs": [
    {
     "name": "stdout",
     "output_type": "stream",
     "text": [
      " \n",
      "1\n"
     ]
    }
   ],
   "source": [
    "def longestUniqSubString(s):\n",
    "    start = 0\n",
    "    maxlgt = 0\n",
    "    maxlgtstr = ''\n",
    "    charsdict = {}\n",
    "    for end in range(len(s)):\n",
    "        if s[end] in charsdict:\n",
    "            start = max (start, charsdict[s[end]]+1)\n",
    "        charsdict[s[end]] = end\n",
    "        # maxlgt = max(maxlgt, end-start+1)\n",
    "        if (end-start+1 > maxlgt):\n",
    "            maxlgt = end-start+1\n",
    "            maxlgtstr = s[start:end+1]\n",
    "\n",
    "    print (maxlgtstr)\n",
    "    return maxlgt\n",
    "\n",
    "print(longestUniqSubString(\" \"))"
   ]
  },
  {
   "cell_type": "code",
   "execution_count": 76,
   "id": "04fb22c5",
   "metadata": {},
   "outputs": [
    {
     "name": "stdout",
     "output_type": "stream",
     "text": [
      "r: 0 , l: 0 counts[s]: 1\n",
      "r: 1 , l: 0 counts[u]: 1\n",
      "r: 2 , l: 0 counts[d]: 1\n",
      "r: 3 , l: 0 counts[d]: 2\n",
      "r: 4 , l: 0 counts[d]: 3\n",
      "r: 5 , l: 0 counts[h]: 1\n",
      "r: 6 , l: 1 counts[d]: 4\n",
      "r: 7 , l: 1 counts[d]: 5\n",
      "r: 8 , l: 1 counts[d]: 6\n",
      "r: 9 , l: 1 counts[d]: 7\n",
      "r: 10 , l: 1 counts[d]: 8\n",
      "r: 11 , l: 1 counts[d]: 9\n",
      "r: 12 , l: 1 counts[d]: 10\n",
      "r: 13 , l: 1 counts[i]: 1\n",
      "r: 14 , l: 2 counts[i]: 2\n",
      "r: 15 , l: 3 counts[i]: 3\n",
      "r: 16 , l: 4 counts[i]: 4\n",
      "r: 17 , l: 5 counts[i]: 5\n",
      "r: 18 , l: 6 counts[n]: 1\n",
      "12\n"
     ]
    }
   ],
   "source": [
    "def longestRepeatingWithK(s, k=1): \n",
    "    l = 0\n",
    "    max_freq = 0\n",
    "    counts = {}\n",
    "    for r in range (0, len(s)):\n",
    "        counts[s[r]] = counts.get(s[r], 0) + 1\n",
    "        max_freq = max (max_freq, counts[s[r]])\n",
    "        print (f\"r: {r} , l: {l} counts[{s[r]}]: {counts[s[r]]}\")\n",
    "        if (k+max_freq < r-l+1):\n",
    "            counts[s[l]] -= 1\n",
    "            l = l+1\n",
    "    \n",
    "    return max_freq+k\n",
    "\n",
    "print(longestRepeatingWithK(\"sudddhdddddddiiiiin\", 2))"
   ]
  },
  {
   "cell_type": "code",
   "execution_count": 86,
   "id": "2b7873da",
   "metadata": {},
   "outputs": [
    {
     "data": {
      "text/plain": [
       "False"
      ]
     },
     "execution_count": 86,
     "metadata": {},
     "output_type": "execute_result"
    }
   ],
   "source": [
    "ex = [(1,5), (3,9), (6,8)]\n",
    "def canAttendMeetings(intervals):\n",
    "    if (len(intervals) <= 0):\n",
    "        return True\n",
    "    \n",
    "    intervals.sort(key=lambda t: t[0])\n",
    "\n",
    "    canAttend = True\n",
    "    for i in range(1, len(intervals)):\n",
    "        if intervals[i-1][1] > intervals[i][0]:\n",
    "            canAttend = False\n",
    "            break\n",
    "    return canAttend\n",
    "\n",
    "canAttendMeetings(ex)    "
   ]
  },
  {
   "cell_type": "code",
   "execution_count": null,
   "id": "e325a77f",
   "metadata": {},
   "outputs": [
    {
     "name": "stdout",
     "output_type": "stream",
     "text": [
      "[(1, 5), (7, 10), (11, 21), (25, 28), (29, 31)]\n"
     ]
    }
   ],
   "source": [
    "def insertInterval(intervals, newint):\n",
    "    intervals.sort(key=lambda t: t[0])\n",
    "    merged = []\n",
    "    i = 0\n",
    "    n = len (intervals)\n",
    "    # Add non-overlapping intervals before the interval to be inserted (newint)\n",
    "    # that is, add all intervals that end before the start of the newint\n",
    "    while i < n and intervals[i][1]+1 < newint [0]:\n",
    "        merged.append(intervals[i])\n",
    "        i += 1\n",
    "\n",
    "    # merge all intervals that now get subsumed by newint\n",
    "    # (1,8), (11,15), (18,21), (25,28), (30,34) + (13,24)\n",
    "    # = (1,8), (11,28), (30,34)\n",
    "    while i < n and newint[1] +1 >= intervals[i][0]:\n",
    "        newint_start = min(newint[0], intervals[i][0])\n",
    "        newint_end = max(newint[1], intervals[i][1])\n",
    "        newint = (newint_start, newint_end)\n",
    "        i += 1\n",
    "    merged.append(newint)\n",
    "\n",
    "    while i < n:\n",
    "        merged.append(intervals[i])\n",
    "        i += 1\n",
    "\n",
    "    return merged\n",
    "\n",
    "ex = [(1, 5), (7,10), (11,15),   (18,21), (25,28), (29,31)]\n",
    "#mex = insertInterval (ex, (13,24))\n",
    "mex = insertInterval (ex, (16,17))\n",
    "print(mex)"
   ]
  },
  {
   "cell_type": "code",
   "execution_count": 87,
   "id": "1f439fec",
   "metadata": {},
   "outputs": [
    {
     "name": "stdout",
     "output_type": "stream",
     "text": [
      "fib(100) = 354224848179261915075\n"
     ]
    }
   ],
   "source": [
    "fibSeries = {0: 0, 1: 1}\n",
    "def fib (n):\n",
    "    global fibSeries\n",
    "    if (n < 0):\n",
    "        return 0\n",
    "    \n",
    "    if (not n in fibSeries):\n",
    "        fibSeries [n] = fib (n-1) + fib (n-2)\n",
    "\n",
    "    return fibSeries[n]\n",
    "n=100\n",
    "print (f\"fib({n}) = {fib(n)}\")"
   ]
  },
  {
   "cell_type": "code",
   "execution_count": 49,
   "id": "d6e7281e",
   "metadata": {},
   "outputs": [
    {
     "name": "stdout",
     "output_type": "stream",
     "text": [
      "3 largest of [2, -5, 1, 2, 4, 5] = [2, 4, 5]\n"
     ]
    }
   ],
   "source": [
    "import heapq\n",
    "def getklargest(nums, k):\n",
    "    heap = []\n",
    "    for num in nums:\n",
    "        heapq.heappush (heap, num)\n",
    "        if (len(heap) > k):\n",
    "            heapq.heappop(heap)\n",
    "        \n",
    "    klargest = []\n",
    "    while (heap):\n",
    "        klargest.append(heapq.heappop(heap))\n",
    "\n",
    "    return klargest\n",
    "\n",
    "nums = [2,-5,1,2,4,5]\n",
    "k = 3\n",
    "print (f\"{k} largest of {nums} = {getklargest(nums,k)}\")"
   ]
  },
  {
   "cell_type": "code",
   "execution_count": null,
   "id": "222c8712",
   "metadata": {},
   "outputs": [
    {
     "name": "stdout",
     "output_type": "stream",
     "text": [
      "Ways to climb 5 steps, with allowed steps [1, 2]: [[1, 1, 1, 1, 1, 2, 2, 1, 2, 1, 1, 2, 2, 1, 1, 1, 2, 2, 1], [1, 1, 1, 1, 1, 2, 2, 1, 2, 1, 1, 2, 2, 1, 1, 1, 2, 2, 1], [1, 1, 1, 1, 1, 2, 2, 1, 2, 1, 1, 2, 2, 1, 1, 1, 2, 2, 1], [1, 1, 1, 1, 1, 2, 2, 1, 2, 1, 1, 2, 2, 1, 1, 1, 2, 2, 1], [1, 1, 1, 1, 1, 2, 2, 1, 2, 1, 1, 2, 2, 1, 1, 1, 2, 2, 1], [1, 1, 1, 1, 1, 2, 2, 1, 2, 1, 1, 2, 2, 1, 1, 1, 2, 2, 1], [1, 1, 1, 1, 1, 2, 2, 1, 2, 1, 1, 2, 2, 1, 1, 1, 2, 2, 1], [1, 1, 1, 1, 1, 2, 2, 1, 2, 1, 1, 2, 2, 1, 1, 1, 2, 2, 1]]\n"
     ]
    }
   ],
   "source": [
    "def numWaysClimbStairs (numSteps, allowedSteps=[1,2]):\n",
    "    solutions = []\n",
    "    def climb(curstepidx, stepsSofar, numSteps, allowedSteps):\n",
    "        if (curstepidx == numSteps):\n",
    "            # at the top, stop\n",
    "            stepsSofarCopy = stepsSofar[:]\n",
    "            solutions.append()\n",
    "        \n",
    "        for stepSize in allowedSteps:\n",
    "            if curstepidx + stepSize <= numSteps:\n",
    "                stepsSofar.append(stepSize)\n",
    "                solutions\n",
    "                climb(curstepidx + stepSize, [], numSteps, allowedSteps)\n",
    "        return\n",
    "    \n",
    "    climb(0, [], numSteps, allowedSteps)\n",
    "    return solutions\n",
    "\n",
    "n = 5\n",
    "allowedSteps=[1,2]\n",
    "print (f\"Ways to climb {n} steps, with allowed steps {allowedSteps}: {numWaysClimbStairs(n, allowedSteps)}\")"
   ]
  }
 ],
 "metadata": {
  "kernelspec": {
   "display_name": "Python 3",
   "language": "python",
   "name": "python3"
  },
  "language_info": {
   "codemirror_mode": {
    "name": "ipython",
    "version": 3
   },
   "file_extension": ".py",
   "mimetype": "text/x-python",
   "name": "python",
   "nbconvert_exporter": "python",
   "pygments_lexer": "ipython3",
   "version": "3.12.10"
  }
 },
 "nbformat": 4,
 "nbformat_minor": 5
}
